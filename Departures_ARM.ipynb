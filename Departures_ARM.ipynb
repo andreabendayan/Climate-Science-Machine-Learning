{
 "cells": [
  {
   "cell_type": "code",
   "execution_count": null,
   "id": "dce62d6f-44ec-4854-be2d-694442eeb628",
   "metadata": {},
   "outputs": [],
   "source": [
    "install.packages(\"rlang\")\n",
    "packageVersion(\"rlang\")\n",
    "install.packages(\"arules\")\n",
    "install.packages(\"TSP\")\n",
    "install.packages(\"data.table\")\n",
    "install.packages(\"arulesViz\", dependencies = TRUE)\n",
    "install.packages(\"sp\")"
   ]
  },
  {
   "cell_type": "code",
   "execution_count": null,
   "id": "b99183bd-64ea-4255-9925-629aefa036cf",
   "metadata": {},
   "outputs": [],
   "source": [
    "install.packages(\"datasets.load\") \n",
    "install.packages(\"ggplot2\") \n",
    "install.packages(\"dplyr\", dependencies = TRUE)\n",
    "install.packages(\"purrr\", dependencies = TRUE)\n",
    "install.packages(\"devtools\", dependencies = TRUE)\n",
    "install.packages(\"tidyr\")"
   ]
  },
  {
   "cell_type": "code",
   "execution_count": null,
   "id": "9f3a9277-519b-4202-9d87-a01938d9ba6b",
   "metadata": {},
   "outputs": [],
   "source": [
    "library(viridis)\n",
    "library(arules)\n",
    "library(TSP)\n",
    "library(data.table)\n",
    "#library(ggplot2)\n",
    "#library(Matrix)\n",
    "library(tcltk)\n",
    "library(dplyr)\n",
    "library(devtools)\n",
    "library(purrr)\n",
    "library(tidyr)"
   ]
  },
  {
   "cell_type": "code",
   "execution_count": 1,
   "id": "588d2ee0-c9f1-4c60-a93a-b882d1ef652e",
   "metadata": {},
   "outputs": [
    {
     "ename": "ERROR",
     "evalue": "Error in fread(\"cleaned_departures_development_traffic.csv\"): could not find function \"fread\"\n",
     "output_type": "error",
     "traceback": [
      "Error in fread(\"cleaned_departures_development_traffic.csv\"): could not find function \"fread\"\nTraceback:\n"
     ]
    }
   ],
   "source": [
    "# Load the CSV file using fread() from the data.table package\n",
    "DF <- fread(\"cleaned_departures_development_traffic.csv\")\n",
    "\n",
    "# Check the first few rows of the data\n",
    "head(DF)\n"
   ]
  },
  {
   "cell_type": "code",
   "execution_count": null,
   "id": "e8bbf668-ecb7-4d30-af6d-c7cb2231dec6",
   "metadata": {},
   "outputs": [],
   "source": []
  }
 ],
 "metadata": {
  "kernelspec": {
   "display_name": "R",
   "language": "R",
   "name": "ir"
  },
  "language_info": {
   "codemirror_mode": "r",
   "file_extension": ".r",
   "mimetype": "text/x-r-source",
   "name": "R",
   "pygments_lexer": "r",
   "version": "4.2.2"
  }
 },
 "nbformat": 4,
 "nbformat_minor": 5
}
